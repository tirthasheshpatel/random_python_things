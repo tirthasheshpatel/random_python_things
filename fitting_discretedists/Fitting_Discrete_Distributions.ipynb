{
 "cells": [
  {
   "cell_type": "code",
   "execution_count": 1,
   "metadata": {},
   "outputs": [],
   "source": [
    "import numpy as np\n",
    "from scipy.stats import binom\n",
    "from scipy.optimize import brute, differential_evolution\n",
    "import matplotlib.pyplot as plt\n",
    "import warnings"
   ]
  },
  {
   "cell_type": "code",
   "execution_count": 2,
   "metadata": {},
   "outputs": [],
   "source": [
    "# Negative log-likelihood function\n",
    "def nll_func(free_params, *args):\n",
    "    dist, x = args\n",
    "    nll = -dist.logpmf(x, *free_params).sum()\n",
    "    if np.isnan(nll):\n",
    "        nll = np.inf\n",
    "    return nll\n",
    "\n",
    "# Function to fit any discrete distributions\n",
    "def fit_discrete(dist, x, bounds, optimizer=brute):\n",
    "    with warnings.catch_warnings():\n",
    "        warnings.simplefilter('ignore')\n",
    "        return optimizer(nll_func, bounds, args=(dist, x))"
   ]
  },
  {
   "cell_type": "code",
   "execution_count": 3,
   "metadata": {},
   "outputs": [],
   "source": [
    "# Generate some samples form the binomial distribution.\n",
    "n, p = 5, 0.4\n",
    "rvs = binom.rvs(n, p, size=10000, random_state=123)"
   ]
  },
  {
   "cell_type": "code",
   "execution_count": 4,
   "metadata": {},
   "outputs": [
    {
     "data": {
      "text/plain": [
       "array([5.00000411, 0.39833459])"
      ]
     },
     "execution_count": 4,
     "metadata": {},
     "output_type": "execute_result"
    }
   ],
   "source": [
    "# Fitting the binomail distribution using the brute force method\n",
    "fit_discrete(binom, rvs, [(0,100),(0,1)])"
   ]
  },
  {
   "cell_type": "code",
   "execution_count": 5,
   "metadata": {},
   "outputs": [
    {
     "data": {
      "text/plain": [
       "     fun: 14899.014444050032\n",
       " message: 'Optimization terminated successfully.'\n",
       "    nfev: 429\n",
       "     nit: 13\n",
       " success: True\n",
       "       x: array([5.07169877, 0.39453257])"
      ]
     },
     "execution_count": 5,
     "metadata": {},
     "output_type": "execute_result"
    }
   ],
   "source": [
    "# Fitting the binomail distribution using the differential evolution method\n",
    "fit_discrete(binom, rvs, [(0,100),(0,1)], optimizer=differential_evolution)"
   ]
  },
  {
   "cell_type": "code",
   "execution_count": 6,
   "metadata": {},
   "outputs": [
    {
     "name": "stdout",
     "output_type": "stream",
     "text": [
      "1.77 s ± 78.2 ms per loop (mean ± std. dev. of 7 runs, 1 loop each)\n"
     ]
    }
   ],
   "source": [
    "# Timing the fit method using global optimzier - brute\n",
    "%timeit fit_discrete(binom, rvs, [(0,100),(0,1)])"
   ]
  },
  {
   "cell_type": "code",
   "execution_count": 7,
   "metadata": {},
   "outputs": [
    {
     "name": "stdout",
     "output_type": "stream",
     "text": [
      "2.08 s ± 453 ms per loop (mean ± std. dev. of 7 runs, 1 loop each)\n"
     ]
    }
   ],
   "source": [
    "# Timing the fit method using global optimzier - differential evolution\n",
    "%timeit fit_discrete(binom, rvs, [(0,100),(0,1)], optimizer=differential_evolution)"
   ]
  },
  {
   "cell_type": "code",
   "execution_count": 8,
   "metadata": {},
   "outputs": [],
   "source": [
    "from scipy.stats import beta\n",
    "\n",
    "# analytical MLE method for fitting the binomial distribution.\n",
    "def fit_binom(x, alpha=0.5, bias_correction=True):\n",
    "    s2 = x.var()\n",
    "    x_bar = x.mean()\n",
    "    xk = np.max(x)\n",
    "    k = x.size\n",
    "    # first moment estimate of n for a given 'alpha'\n",
    "    n_hat_prior = xk**(alpha+1)*s2**alpha / (x_bar**alpha*(xk-x_bar)**alpha)\n",
    "    if bias_correction:\n",
    "        n_hat_prior = np.floor(n_hat_prior)\n",
    "        n_hat_priors = np.arange(0, n_hat_prior-1)\n",
    "        # final estimate for n after correction for bias\n",
    "        n_hat = xk + np.sum(beta.ppf(1./k, n_hat_priors+1, n_hat_prior-n_hat_priors))\n",
    "    else:\n",
    "        n_hat = n_hat_prior\n",
    "    p_hat = x_bar/n_hat\n",
    "\n",
    "    return n_hat, p_hat"
   ]
  },
  {
   "cell_type": "code",
   "execution_count": 9,
   "metadata": {},
   "outputs": [
    {
     "data": {
      "text/plain": [
       "(5.033577403499388, 0.3956629332083822)"
      ]
     },
     "execution_count": 9,
     "metadata": {},
     "output_type": "execute_result"
    }
   ],
   "source": [
    "fit_binom(rvs)"
   ]
  },
  {
   "cell_type": "code",
   "execution_count": 10,
   "metadata": {},
   "outputs": [
    {
     "name": "stdout",
     "output_type": "stream",
     "text": [
      "857 µs ± 75.4 µs per loop (mean ± std. dev. of 7 runs, 1000 loops each)\n"
     ]
    }
   ],
   "source": [
    "# Timing the analytical method:\n",
    "%timeit fit_binom(rvs)"
   ]
  },
  {
   "cell_type": "code",
   "execution_count": 11,
   "metadata": {},
   "outputs": [
    {
     "data": {
      "text/plain": [
       "(4.991940304939013, 0.3989631041920746)"
      ]
     },
     "execution_count": 11,
     "metadata": {},
     "output_type": "execute_result"
    }
   ],
   "source": [
    "# For smaller values for alpha, we should get closer estimates\n",
    "# even if we don't do bias correction\n",
    "fit_binom(rvs, alpha=0.1, bias_correction=False)"
   ]
  },
  {
   "cell_type": "code",
   "execution_count": 12,
   "metadata": {},
   "outputs": [
    {
     "name": "stdout",
     "output_type": "stream",
     "text": [
      "299 µs ± 9.6 µs per loop (mean ± std. dev. of 7 runs, 1000 loops each)\n"
     ]
    }
   ],
   "source": [
    "# Timing analytical method without bias correction\n",
    "%timeit fit_binom(rvs, alpha=0.1, bias_correction=False)"
   ]
  },
  {
   "cell_type": "code",
   "execution_count": 13,
   "metadata": {},
   "outputs": [],
   "source": [
    "# Trying all the methods for different values of n, p, and k.\n",
    "ns = [20, 50, 100, 200, 500, 1000]\n",
    "ps = [0.1, 0.2, 0.3, 0.5, 0.7, 0.8, 0.9]\n",
    "ks = [10, 100, 1000, 10000]\n",
    "bounds = [(0, 1001), (0, 1)]"
   ]
  },
  {
   "cell_type": "code",
   "execution_count": 14,
   "metadata": {},
   "outputs": [
    {
     "name": "stdout",
     "output_type": "stream",
     "text": [
      "Done       00.00%"
     ]
    }
   ],
   "source": [
    "import sys\n",
    "\n",
    "tot = len(ns)*len(ps)*len(ks)\n",
    "results = np.empty((tot, 11))\n",
    "\n",
    "i=0\n",
    "\n",
    "for n in ns:\n",
    "    for p in ps:\n",
    "        for k in ks:\n",
    "            rvs = binom.rvs(n, p, size=k, random_state=123)\n",
    "            np_brute = fit_discrete(binom, rvs, bounds)\n",
    "            np_de    = fit_discrete(binom, rvs, bounds, differential_evolution)\n",
    "            np_anb   = fit_binom(rvs, alpha=0.1, bias_correction=False)\n",
    "            np_ab    = fit_binom(rvs, bias_correction=True)\n",
    "            results[i, 0]  = n\n",
    "            results[i, 1]  = p\n",
    "            results[i, 2]  = k\n",
    "            results[i, 3]  = np_brute[0]\n",
    "            results[i, 4]  = np_brute[1]\n",
    "            results[i, 5]  = np_de.x[0]\n",
    "            results[i, 6]  = np_de.x[1]\n",
    "            results[i, 7]  = np_anb[0]\n",
    "            results[i, 8]  = np_anb[1]\n",
    "            results[i, 9]  = np_ab[0]\n",
    "            results[i, 10] = np_ab[1]\n",
    "            i+=1\n",
    "            sys.stdout.write(f\"\\rProgress: {i/tot*100:.2f}%\")\n",
    "sys.stdout.write(\"\\rDone       \")"
   ]
  },
  {
   "cell_type": "code",
   "execution_count": 15,
   "metadata": {},
   "outputs": [],
   "source": [
    "import pandas as pd\n",
    "\n",
    "results_pd = pd.DataFrame(results,\n",
    "                          columns=[\n",
    "                              \"n\", \"p\", \"k\",\n",
    "                              \"n_hat | Brute\", \"p_hat | Brute\",\n",
    "                              \"n_hat | Differential Evolution\",\n",
    "                              \"p_hat | Differential Evolution\",\n",
    "                              \"n_hat | Analytical (without bias correction)\",\n",
    "                              \"p_hat | Analytical (without bias correction)\",\n",
    "                              \"n_hat | Analytical (with bias correction)\",\n",
    "                              \"p_hat | Analytical (with bias correction)\"\n",
    "                          ])"
   ]
  },
  {
   "cell_type": "code",
   "execution_count": 16,
   "metadata": {},
   "outputs": [
    {
     "data": {
      "text/html": [
       "<div>\n",
       "<style scoped>\n",
       "    .dataframe tbody tr th:only-of-type {\n",
       "        vertical-align: middle;\n",
       "    }\n",
       "\n",
       "    .dataframe tbody tr th {\n",
       "        vertical-align: top;\n",
       "    }\n",
       "\n",
       "    .dataframe thead th {\n",
       "        text-align: right;\n",
       "    }\n",
       "</style>\n",
       "<table border=\"1\" class=\"dataframe\">\n",
       "  <thead>\n",
       "    <tr style=\"text-align: right;\">\n",
       "      <th></th>\n",
       "      <th>n</th>\n",
       "      <th>p</th>\n",
       "      <th>k</th>\n",
       "      <th>n_hat | Brute</th>\n",
       "      <th>p_hat | Brute</th>\n",
       "      <th>n_hat | Differential Evolution</th>\n",
       "      <th>p_hat | Differential Evolution</th>\n",
       "      <th>n_hat | Analytical (without bias correction)</th>\n",
       "      <th>p_hat | Analytical (without bias correction)</th>\n",
       "      <th>n_hat | Analytical (with bias correction)</th>\n",
       "      <th>p_hat | Analytical (with bias correction)</th>\n",
       "    </tr>\n",
       "  </thead>\n",
       "  <tbody>\n",
       "    <tr>\n",
       "      <th>0</th>\n",
       "      <td>20.0</td>\n",
       "      <td>0.1</td>\n",
       "      <td>10.0</td>\n",
       "      <td>5.921379</td>\n",
       "      <td>0.405311</td>\n",
       "      <td>5.921403</td>\n",
       "      <td>0.405309</td>\n",
       "      <td>4.996786</td>\n",
       "      <td>0.480309</td>\n",
       "      <td>5.489016</td>\n",
       "      <td>0.437237</td>\n",
       "    </tr>\n",
       "    <tr>\n",
       "      <th>1</th>\n",
       "      <td>20.0</td>\n",
       "      <td>0.1</td>\n",
       "      <td>100.0</td>\n",
       "      <td>6.981749</td>\n",
       "      <td>0.283596</td>\n",
       "      <td>26.767060</td>\n",
       "      <td>0.074276</td>\n",
       "      <td>5.996826</td>\n",
       "      <td>0.330175</td>\n",
       "      <td>6.362402</td>\n",
       "      <td>0.311203</td>\n",
       "    </tr>\n",
       "    <tr>\n",
       "      <th>2</th>\n",
       "      <td>20.0</td>\n",
       "      <td>0.1</td>\n",
       "      <td>1000.0</td>\n",
       "      <td>18.286391</td>\n",
       "      <td>0.108387</td>\n",
       "      <td>38.325630</td>\n",
       "      <td>0.051687</td>\n",
       "      <td>7.154589</td>\n",
       "      <td>0.277025</td>\n",
       "      <td>7.496592</td>\n",
       "      <td>0.264387</td>\n",
       "    </tr>\n",
       "    <tr>\n",
       "      <th>3</th>\n",
       "      <td>20.0</td>\n",
       "      <td>0.1</td>\n",
       "      <td>10000.0</td>\n",
       "      <td>16.759968</td>\n",
       "      <td>0.118389</td>\n",
       "      <td>351.511961</td>\n",
       "      <td>0.005656</td>\n",
       "      <td>8.129211</td>\n",
       "      <td>0.244083</td>\n",
       "      <td>8.456971</td>\n",
       "      <td>0.234623</td>\n",
       "    </tr>\n",
       "    <tr>\n",
       "      <th>4</th>\n",
       "      <td>20.0</td>\n",
       "      <td>0.2</td>\n",
       "      <td>10.0</td>\n",
       "      <td>10.238007</td>\n",
       "      <td>0.429771</td>\n",
       "      <td>10.167458</td>\n",
       "      <td>0.434665</td>\n",
       "      <td>8.023918</td>\n",
       "      <td>0.548361</td>\n",
       "      <td>9.868389</td>\n",
       "      <td>0.445868</td>\n",
       "    </tr>\n",
       "    <tr>\n",
       "      <th>...</th>\n",
       "      <td>...</td>\n",
       "      <td>...</td>\n",
       "      <td>...</td>\n",
       "      <td>...</td>\n",
       "      <td>...</td>\n",
       "      <td>...</td>\n",
       "      <td>...</td>\n",
       "      <td>...</td>\n",
       "      <td>...</td>\n",
       "      <td>...</td>\n",
       "      <td>...</td>\n",
       "    </tr>\n",
       "    <tr>\n",
       "      <th>163</th>\n",
       "      <td>1000.0</td>\n",
       "      <td>0.8</td>\n",
       "      <td>10000.0</td>\n",
       "      <td>995.660538</td>\n",
       "      <td>0.803437</td>\n",
       "      <td>997.368115</td>\n",
       "      <td>0.801869</td>\n",
       "      <td>964.523085</td>\n",
       "      <td>0.829375</td>\n",
       "      <td>1608.716752</td>\n",
       "      <td>0.497260</td>\n",
       "    </tr>\n",
       "    <tr>\n",
       "      <th>164</th>\n",
       "      <td>1000.0</td>\n",
       "      <td>0.9</td>\n",
       "      <td>10.0</td>\n",
       "      <td>920.912070</td>\n",
       "      <td>0.974143</td>\n",
       "      <td>920.561777</td>\n",
       "      <td>0.974262</td>\n",
       "      <td>1060.902827</td>\n",
       "      <td>0.845601</td>\n",
       "      <td>1893.329142</td>\n",
       "      <td>0.473821</td>\n",
       "    </tr>\n",
       "    <tr>\n",
       "      <th>165</th>\n",
       "      <td>1000.0</td>\n",
       "      <td>0.9</td>\n",
       "      <td>100.0</td>\n",
       "      <td>984.574810</td>\n",
       "      <td>0.914699</td>\n",
       "      <td>990.492157</td>\n",
       "      <td>0.909238</td>\n",
       "      <td>1039.468501</td>\n",
       "      <td>0.866395</td>\n",
       "      <td>1715.333024</td>\n",
       "      <td>0.525023</td>\n",
       "    </tr>\n",
       "    <tr>\n",
       "      <th>166</th>\n",
       "      <td>1000.0</td>\n",
       "      <td>0.9</td>\n",
       "      <td>1000.0</td>\n",
       "      <td>998.277271</td>\n",
       "      <td>0.901850</td>\n",
       "      <td>998.454577</td>\n",
       "      <td>0.901782</td>\n",
       "      <td>1025.503597</td>\n",
       "      <td>0.877906</td>\n",
       "      <td>1623.099919</td>\n",
       "      <td>0.554677</td>\n",
       "    </tr>\n",
       "    <tr>\n",
       "      <th>167</th>\n",
       "      <td>1000.0</td>\n",
       "      <td>0.9</td>\n",
       "      <td>10000.0</td>\n",
       "      <td>1000.076219</td>\n",
       "      <td>0.899936</td>\n",
       "      <td>1000.921326</td>\n",
       "      <td>0.899242</td>\n",
       "      <td>1026.595270</td>\n",
       "      <td>0.876689</td>\n",
       "      <td>1617.048843</td>\n",
       "      <td>0.556572</td>\n",
       "    </tr>\n",
       "  </tbody>\n",
       "</table>\n",
       "<p>168 rows × 11 columns</p>\n",
       "</div>"
      ],
      "text/plain": [
       "          n    p        k  n_hat | Brute  p_hat | Brute  \\\n",
       "0      20.0  0.1     10.0       5.921379       0.405311   \n",
       "1      20.0  0.1    100.0       6.981749       0.283596   \n",
       "2      20.0  0.1   1000.0      18.286391       0.108387   \n",
       "3      20.0  0.1  10000.0      16.759968       0.118389   \n",
       "4      20.0  0.2     10.0      10.238007       0.429771   \n",
       "..      ...  ...      ...            ...            ...   \n",
       "163  1000.0  0.8  10000.0     995.660538       0.803437   \n",
       "164  1000.0  0.9     10.0     920.912070       0.974143   \n",
       "165  1000.0  0.9    100.0     984.574810       0.914699   \n",
       "166  1000.0  0.9   1000.0     998.277271       0.901850   \n",
       "167  1000.0  0.9  10000.0    1000.076219       0.899936   \n",
       "\n",
       "     n_hat | Differential Evolution  p_hat | Differential Evolution  \\\n",
       "0                          5.921403                        0.405309   \n",
       "1                         26.767060                        0.074276   \n",
       "2                         38.325630                        0.051687   \n",
       "3                        351.511961                        0.005656   \n",
       "4                         10.167458                        0.434665   \n",
       "..                              ...                             ...   \n",
       "163                      997.368115                        0.801869   \n",
       "164                      920.561777                        0.974262   \n",
       "165                      990.492157                        0.909238   \n",
       "166                      998.454577                        0.901782   \n",
       "167                     1000.921326                        0.899242   \n",
       "\n",
       "     n_hat | Analytical (without bias correction)  \\\n",
       "0                                        4.996786   \n",
       "1                                        5.996826   \n",
       "2                                        7.154589   \n",
       "3                                        8.129211   \n",
       "4                                        8.023918   \n",
       "..                                            ...   \n",
       "163                                    964.523085   \n",
       "164                                   1060.902827   \n",
       "165                                   1039.468501   \n",
       "166                                   1025.503597   \n",
       "167                                   1026.595270   \n",
       "\n",
       "     p_hat | Analytical (without bias correction)  \\\n",
       "0                                        0.480309   \n",
       "1                                        0.330175   \n",
       "2                                        0.277025   \n",
       "3                                        0.244083   \n",
       "4                                        0.548361   \n",
       "..                                            ...   \n",
       "163                                      0.829375   \n",
       "164                                      0.845601   \n",
       "165                                      0.866395   \n",
       "166                                      0.877906   \n",
       "167                                      0.876689   \n",
       "\n",
       "     n_hat | Analytical (with bias correction)  \\\n",
       "0                                     5.489016   \n",
       "1                                     6.362402   \n",
       "2                                     7.496592   \n",
       "3                                     8.456971   \n",
       "4                                     9.868389   \n",
       "..                                         ...   \n",
       "163                                1608.716752   \n",
       "164                                1893.329142   \n",
       "165                                1715.333024   \n",
       "166                                1623.099919   \n",
       "167                                1617.048843   \n",
       "\n",
       "     p_hat | Analytical (with bias correction)  \n",
       "0                                     0.437237  \n",
       "1                                     0.311203  \n",
       "2                                     0.264387  \n",
       "3                                     0.234623  \n",
       "4                                     0.445868  \n",
       "..                                         ...  \n",
       "163                                   0.497260  \n",
       "164                                   0.473821  \n",
       "165                                   0.525023  \n",
       "166                                   0.554677  \n",
       "167                                   0.556572  \n",
       "\n",
       "[168 rows x 11 columns]"
      ]
     },
     "execution_count": 16,
     "metadata": {},
     "output_type": "execute_result"
    }
   ],
   "source": [
    "results_pd"
   ]
  },
  {
   "cell_type": "code",
   "execution_count": 18,
   "metadata": {},
   "outputs": [],
   "source": [
    "results_pd.to_csv('fitting_discrete.csv')"
   ]
  },
  {
   "cell_type": "code",
   "execution_count": null,
   "metadata": {},
   "outputs": [],
   "source": []
  }
 ],
 "metadata": {
  "kernelspec": {
   "display_name": "Python 3",
   "language": "python",
   "name": "python3"
  },
  "language_info": {
   "codemirror_mode": {
    "name": "ipython",
    "version": 3
   },
   "file_extension": ".py",
   "mimetype": "text/x-python",
   "name": "python",
   "nbconvert_exporter": "python",
   "pygments_lexer": "ipython3",
   "version": "3.8.5"
  }
 },
 "nbformat": 4,
 "nbformat_minor": 4
}
